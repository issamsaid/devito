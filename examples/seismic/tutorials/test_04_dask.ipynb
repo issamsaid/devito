{
 "cells": [
  {
   "cell_type": "markdown",
   "metadata": {
    "collapsed": true
   },
   "source": [
    "# 04 - How to do FWI with Dask\n"
   ]
  },
  {
   "cell_type": "code",
   "execution_count": 1,
   "metadata": {},
   "outputs": [],
   "source": [
    "import sys\n",
    "sys.path.append('/Users/ggorman/projects/devito')\n",
    "\n",
    "from devito import configuration\n",
    "# configuration['log_level'] = 'WARNING'\n",
    "\n",
    "# import os\n",
    "# os.environ[\"DEVITO_DEBUG_COMPILER\"] = \"0\"\n",
    "\n",
    "from devito import DenseData, clear_cache\n",
    "from examples.seismic.acoustic import AcousticWaveSolver\n",
    "from examples.seismic import Model\n",
    "\n",
    "from examples.seismic import demo_model, plot_velocity, plot_perturbation\n",
    "from examples.seismic import RickerSource, Receiver\n",
    "\n",
    "import numpy as np\n",
    "%matplotlib inline"
   ]
  },
  {
   "cell_type": "code",
   "execution_count": 2,
   "metadata": {
    "collapsed": true
   },
   "outputs": [],
   "source": [
    "if configuration['travis_test']:\n",
    "    # A reduced setup for automated testing\n",
    "    fwi_iterations = 1  # Number of outer FWI iterations\n",
    "else:\n",
    "    # Default setup for demonstration purposes\n",
    "    fwi_iterations = 3  # Number of outer FWI iterations"
   ]
  },
  {
   "cell_type": "code",
   "execution_count": 3,
   "metadata": {
    "collapsed": true
   },
   "outputs": [],
   "source": [
    "# Define true and initial model\n",
    "def get_grid():\n",
    "    shape = (101, 101)  # Number of grid point (nx, nz)\n",
    "    spacing = (10., 10.)  # Grid spacing in m. The domain size is now 1km by 1km\n",
    "    origin = (0., 0.)  # Need origin to define relative source and receiver locations\n",
    "\n",
    "    return shape, spacing, origin\n",
    "\n",
    "def get_true_model():\n",
    "    shape, spacing, origin = get_grid()\n",
    "    return demo_model('circle', vp=3.0, vp_background=2.5, \n",
    "                      origin=origin, shape=shape, spacing=spacing, nbpml=40)\n",
    "\n",
    "def get_initial_model():\n",
    "    shape, spacing, origin = get_grid()\n",
    "\n",
    "    return demo_model('circle', vp=2.5, vp_background=2.5, \n",
    "                      origin=origin, shape=shape, spacing=spacing, nbpml=40)\n",
    "\n",
    "# Define acquisition geometry: source\n",
    "def get_data(data, i):\n",
    "    \"\"\" Returns source and receiver data for shot i.\n",
    "    \"\"\"\n",
    "    true_model = get_true_model()\n",
    "    dt = true_model.critical_dt  # Time step from model grid spacing\n",
    "\n",
    "    # Set up src\n",
    "    nt = int(1 + (data['tn']-data['t0']) / dt)  # Discrete time axis length\n",
    "\n",
    "    src = RickerSource(name='src', ndim=2, f0=data['f0'],\n",
    "                       time=np.linspace(data['t0'], data['tn'], nt))\n",
    "    src.coordinates.data[0, :] = [30, i*1000./(data['nshots']-1)]\n",
    "\n",
    "    # Set up rec\n",
    "    nreceivers = 101  # Number of receiver locations per shot\n",
    "    rec = Receiver(name='rec', npoint=nreceivers, ntime=nt, ndim=2)\n",
    "    rec.coordinates.data[:, 1] = np.linspace(0, true_model.domain_size[0], num=nreceivers)\n",
    "    rec.coordinates.data[:, 0] = 980. # 20m from the right end\n",
    "\n",
    "    # Set up solver - using model_in so that we have the same dt\n",
    "    solver = AcousticWaveSolver(true_model, src, rec, space_order=4)\n",
    "\n",
    "    # Generate synthetic receiver data from true model\n",
    "    true_d, _, _ = solver.forward(src=src, m=true_model.m)\n",
    "    # clear_cache()\n",
    "\n",
    "    return src, true_d, nt, solver\n",
    "\n",
    "# Create FWI gradient kernel \n",
    "def fwi_gradient_i(workpack):\n",
    "    clear_cache()\n",
    "    \n",
    "    data, i = workpack\n",
    "    src, rec, nt, solver = get_data(data, i)\n",
    "    model0 = data['model']\n",
    "    \n",
    "    # Create symbols to hold the gradient and residual\n",
    "    grad = DenseData(name=\"grad\", shape=model0.shape_domain, dtype=model0.dtype)\n",
    "    residual = Receiver(name='rec', ntime=nt, coordinates=rec.coordinates.data)\n",
    "    \n",
    "    # Compute simulated data and full forward wavefield u0\n",
    "    d, u0, _ = solver.forward(src=src, m=model0.m, save=True)\n",
    "        \n",
    "    # Compute gradient from data residual and update objective function \n",
    "    residual.data[:] = d.data[:] - rec.data[:]\n",
    "    f = .5*np.linalg.norm(residual.data.flatten())**2\n",
    "    \n",
    "    solver.gradient(rec=residual, u=u0, m=model0.m, grad=grad)\n",
    "    \n",
    "    # Take a copy of the gradient as async-comms can result in the\n",
    "    # solution being erased (via clear_cache) before reduction is\n",
    "    # performed.\n",
    "    g = np.array(grad.data[:])\n",
    "    \n",
    "    g[0:25,:] = 0.\n",
    "    g[-25:,:] = 0.\n",
    "\n",
    "    return f, g, i\n",
    "\n",
    "def sum_pairs_g(a, b):\n",
    "    return (a[0]+b[0], a[1]+b[1], a[2]+b[2])\n",
    "\n",
    "def sum_g(futures):\n",
    "    # Simple tree reduction\n",
    "    while len(futures) > 1:  # while there is more than one element left\n",
    "        # Add neighbors\n",
    "        remainder = None\n",
    "        if len(futures)%2==1:\n",
    "            remainder = futures[-1]\n",
    "        futures = [client.submit(sum_pairs_g, a, b)\n",
    "                   for a, b in zip(futures[::2], futures[1::2])]\n",
    "        if remainder: \n",
    "            futures.append(remainder)\n",
    "    return futures[0]\n",
    "\n",
    "def fwi_gradient(parameters):\n",
    "    remote_data = client.scatter(data=parameters, broadcast=True)\n",
    "    \n",
    "    work = [(remote_data, i) for i in range(parameters['nshots'])]\n",
    "    future = sum_g(client.map(fwi_gradient_i, work))\n",
    "\n",
    "    f, g, magicnumber = future.result()\n",
    "        \n",
    "    return f, g"
   ]
  },
  {
   "cell_type": "code",
   "execution_count": 4,
   "metadata": {},
   "outputs": [],
   "source": [
    "import dask\n",
    "from dask import delayed\n",
    "from dask.distributed import Client\n",
    "\n",
    "client = Client()\n",
    "\n",
    "# Set up inversion parameters.\n",
    "param = {'model':get_initial_model(),\n",
    "         't0':0.,\n",
    "         'tn':1000.,  # Simulation last 1 second (1000 ms)\n",
    "         'f0':0.010,  # Source peak frequency is 10Hz (0.010 kHz)\n",
    "         'nshots':21} # Number of shots to create gradient from"
   ]
  },
  {
   "cell_type": "code",
   "execution_count": 5,
   "metadata": {},
   "outputs": [],
   "source": [
    "# f, g = fwi_gradient(param)\n",
    "# print('Objective value is %f ' % f)\n",
    "\n",
    "# np.linalg.norm(param['model'].m.data[:])"
   ]
  },
  {
   "cell_type": "code",
   "execution_count": 6,
   "metadata": {},
   "outputs": [],
   "source": [
    "# # Plot FWI gradient and model update\n",
    "# from examples.seismic import plot_image\n",
    "\n",
    "# # Plot the FWI gradient\n",
    "# plot_image(g, vmin=-1e4, vmax=1e4, cmap=\"jet\")\n",
    "\n",
    "# # Plot the difference between the true and initial model.\n",
    "# # This is not known in practice as only the initial model is provided.\n",
    "# plot_image(param['model'].m.data - get_true_model().m.data,\n",
    "#            vmin=-1e-1, vmax=1e-1, cmap=\"jet\")\n",
    "\n",
    "# # Show what the update does to the model\n",
    "# alpha = .05 / np.max(g)\n",
    "# plot_image(param['model'].m.data - alpha*g,\n",
    "#            vmin=.1, vmax=.2, cmap=\"jet\")"
   ]
  },
  {
   "cell_type": "code",
   "execution_count": 7,
   "metadata": {},
   "outputs": [
    {
     "name": "stdout",
     "output_type": "stream",
     "text": [
      "Objective value is 137325.854551 at iteration 1\n",
      "28.9484\n",
      "Objective value is 137325.854551 at iteration 2\n",
      "28.9368\n",
      "Objective value is 137325.854551 at iteration 3\n",
      "28.9253\n"
     ]
    }
   ],
   "source": [
    "# Create bounds constraint\n",
    "def bound_constr(m):\n",
    "    m[m<.1] = .08 # Maximum accepted velocity is 3.5 km/sec (true is 3 km/sec)\n",
    "    m[m>.2] = .25 # Minimum accepted velocity is 2 km/sec (true is 2.5 km/sec)\n",
    "    return m\n",
    "\n",
    "def fwi(param, fwi_iterations):\n",
    "    # Run FWI with gradient descent\n",
    "    history = np.zeros((fwi_iterations, 1))\n",
    "    for i in range(fwi_iterations):\n",
    "        param['fwiiter'] = i\n",
    "        \n",
    "        # Compute the functional value and gradient for the current\n",
    "        # model estimate.\n",
    "        f, g = fwi_gradient(param)\n",
    "    \n",
    "        # Store the history of the functional values.\n",
    "        history[i] = f\n",
    "    \n",
    "        # Artificial Step length for gradient descent\n",
    "        # In practice this would be replaced by a Linesearch (Wolfe, ...)\n",
    "        # that would guaranty functional decrease Phi(m-alpha g) <= epsilon Phi(m)\n",
    "        # where epsilon is a minimum decrease constant\n",
    "        alpha = .001 / np.max(g)\n",
    "        \n",
    "        param['model'].m.data[:] -= alpha * g\n",
    "        bound_constr(param['model'].m.data[:])\n",
    "    \n",
    "        # Log the progress made\n",
    "        print('Objective value is %f at iteration %d' % (f, i+1))\n",
    "        print(np.linalg.norm(param['model'].m.data[:].flatten()))\n",
    "    return history\n",
    "        \n",
    "history = fwi(param, fwi_iterations)"
   ]
  },
  {
   "cell_type": "code",
   "execution_count": 8,
   "metadata": {},
   "outputs": [
    {
     "data": {
      "image/png": "[encoded data removed]",
      "text/plain": [
       "<matplotlib.figure.Figure at 0x11aa34208>"
      ]
     },
     "metadata": {},
     "output_type": "display_data"
    },
    {
     "data": {
      "image/png": "[encoded data removed]",
      "text/plain": [
       "<matplotlib.figure.Figure at 0x116e27e48>"
      ]
     },
     "metadata": {},
     "output_type": "display_data"
    }
   ],
   "source": [
    "# Plot inverted velocity model\n",
    "\n",
    "# First, update velocity from computed square slowness\n",
    "nbpml = param['model'].nbpml\n",
    "param['model'].vp = np.sqrt(1. / param['model'].m.data[nbpml:-nbpml, nbpml:-nbpml])\n",
    "\n",
    "plot_velocity(param['model'])\n",
    "\n",
    "# Plot objective function decrease\n",
    "import matplotlib.pyplot as plt\n",
    "\n",
    "plt.figure()\n",
    "plt.loglog(history)\n",
    "plt.xlabel('Iteration number')\n",
    "plt.ylabel('Misfit value Phi')\n",
    "plt.title('Convergence')\n",
    "plt.show()"
   ]
  },
  {
   "cell_type": "code",
   "execution_count": null,
   "metadata": {
    "collapsed": true
   },
   "outputs": [],
   "source": []
  }
 ],
 "metadata": {
  "anaconda-cloud": {},
  "kernelspec": {
   "display_name": "Python 3",
   "language": "python",
   "name": "python3"
  },
  "language_info": {
   "codemirror_mode": {
    "name": "ipython",
    "version": 3
   },
   "file_extension": ".py",
   "mimetype": "text/x-python",
   "name": "python",
   "nbconvert_exporter": "python",
   "pygments_lexer": "ipython3",
   "version": "3.6.2"
  }
 },
 "nbformat": 4,
 "nbformat_minor": 1
}
